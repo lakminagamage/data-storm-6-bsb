{
 "cells": [
  {
   "cell_type": "code",
   "execution_count": 7,
   "id": "b28dbe2e-fbba-4ce6-a85d-a4ff84ab32b5",
   "metadata": {},
   "outputs": [
    {
     "data": {
      "text/plain": [
       "<bound method NDFrame.head of        row_id agent_code  agent_age agent_join_month first_policy_sold_month  \\\n",
       "0           1   455ca878         45         2/1/2021                9/1/2023   \n",
       "1           2   c823ce77         48         4/1/2022                2/1/2024   \n",
       "2           3   62154055         53         5/1/2020                9/1/2023   \n",
       "3           4   c58bfa6e         44         7/1/2019                3/1/2022   \n",
       "4           5   b1e5f770         20         9/1/2020                2/1/2023   \n",
       "...       ...        ...        ...              ...                     ...   \n",
       "15303   15304   d3b44e44         43         4/1/2019               10/1/2023   \n",
       "15304   15305   0b1d7054         28         9/1/2022                3/1/2024   \n",
       "15305   15306   51321fa2         45         1/1/2021                4/1/2024   \n",
       "15306   15307   dd4a0d2d         25        12/1/2021               12/1/2023   \n",
       "15307   15308   393f3bf6         53         1/1/2023                2/1/2024   \n",
       "\n",
       "      year_month  unique_proposals_last_7_days  unique_proposals_last_15_days  \\\n",
       "0       1/1/2023                             3                              6   \n",
       "1       1/1/2023                             1                              4   \n",
       "2       1/1/2023                             3                              5   \n",
       "3       1/1/2023                             1                              0   \n",
       "4       1/1/2023                             0                              6   \n",
       "...          ...                           ...                            ...   \n",
       "15303   8/1/2024                             1                              6   \n",
       "15304   8/1/2024                             1                              5   \n",
       "15305   8/1/2024                             0                              6   \n",
       "15306   8/1/2024                             0                              4   \n",
       "15307   8/1/2024                             1                              4   \n",
       "\n",
       "       unique_proposals_last_21_days  unique_proposal  ...  unique_quotations  \\\n",
       "0                                  2               12  ...                  9   \n",
       "1                                 12               21  ...                 14   \n",
       "2                                  5               17  ...                 14   \n",
       "3                                 12               17  ...                 11   \n",
       "4                                 10               17  ...                 13   \n",
       "...                              ...              ...  ...                ...   \n",
       "15303                              6               17  ...                 10   \n",
       "15304                              3               13  ...                 14   \n",
       "15305                             17               26  ...                 22   \n",
       "15306                              6               14  ...                 13   \n",
       "15307                              7               16  ...                  9   \n",
       "\n",
       "       unique_customers_last_7_days  unique_customers_last_15_days  \\\n",
       "0                                 3                              4   \n",
       "1                                 4                              3   \n",
       "2                                 3                              7   \n",
       "3                                 2                              2   \n",
       "4                                 3                             10   \n",
       "...                             ...                            ...   \n",
       "15303                             3                              4   \n",
       "15304                             4                              3   \n",
       "15305                             6                              7   \n",
       "15306                             6                              3   \n",
       "15307                             3                              8   \n",
       "\n",
       "       unique_customers_last_21_days  unique_customers  new_policy_count  \\\n",
       "0                                  8                15                 0   \n",
       "1                                 10                17                25   \n",
       "2                                 11                21                26   \n",
       "3                                  9                13                18   \n",
       "4                                  6                19                20   \n",
       "...                              ...               ...               ...   \n",
       "15303                             11                18                25   \n",
       "15304                             11                18                15   \n",
       "15305                              6                19                30   \n",
       "15306                              6                15                 0   \n",
       "15307                              1                12                19   \n",
       "\n",
       "       ANBP_value  net_income  number_of_policy_holders  \\\n",
       "0               0       93313                        30   \n",
       "1         1071450      164804                         0   \n",
       "2         1601210      426690                        84   \n",
       "3          283230       47793                        39   \n",
       "4         1957680      562239                        19   \n",
       "...           ...         ...                       ...   \n",
       "15303     2473900      404980                        18   \n",
       "15304      922050      198187                        18   \n",
       "15305      645330      133263                        57   \n",
       "15306           0       32546                        30   \n",
       "15307     1726568      295565                        36   \n",
       "\n",
       "       number_of_cash_payment_policies  \n",
       "0                                  162  \n",
       "1                                  175  \n",
       "2                                   78  \n",
       "3                                  144  \n",
       "4                                   40  \n",
       "...                                ...  \n",
       "15303                              100  \n",
       "15304                              120  \n",
       "15305                              270  \n",
       "15306                              171  \n",
       "15307                                0  \n",
       "\n",
       "[15308 rows x 23 columns]>"
      ]
     },
     "execution_count": 7,
     "metadata": {},
     "output_type": "execute_result"
    }
   ],
   "source": [
    "import pandas as pd\n",
    "\n",
    "\n",
    "df = pd.read_csv('data/train_storming_round.csv')\n",
    "df.head"
   ]
  },
  {
   "cell_type": "code",
   "execution_count": 8,
   "id": "f75c8b8d-7647-45b4-a25c-0f12a84ae88d",
   "metadata": {},
   "outputs": [
    {
     "data": {
      "text/plain": [
       "(15308, 23)"
      ]
     },
     "execution_count": 8,
     "metadata": {},
     "output_type": "execute_result"
    }
   ],
   "source": [
    "df.shape"
   ]
  },
  {
   "cell_type": "code",
   "execution_count": 9,
   "id": "630df2e7-84a5-4868-a454-32d6d2ffe074",
   "metadata": {},
   "outputs": [
    {
     "name": "stdout",
     "output_type": "stream",
     "text": [
      "<class 'pandas.core.frame.DataFrame'>\n",
      "RangeIndex: 15308 entries, 0 to 15307\n",
      "Data columns (total 23 columns):\n",
      " #   Column                           Non-Null Count  Dtype \n",
      "---  ------                           --------------  ----- \n",
      " 0   row_id                           15308 non-null  int64 \n",
      " 1   agent_code                       15308 non-null  object\n",
      " 2   agent_age                        15308 non-null  int64 \n",
      " 3   agent_join_month                 15308 non-null  object\n",
      " 4   first_policy_sold_month          15308 non-null  object\n",
      " 5   year_month                       15308 non-null  object\n",
      " 6   unique_proposals_last_7_days     15308 non-null  int64 \n",
      " 7   unique_proposals_last_15_days    15308 non-null  int64 \n",
      " 8   unique_proposals_last_21_days    15308 non-null  int64 \n",
      " 9   unique_proposal                  15308 non-null  int64 \n",
      " 10  unique_quotations_last_7_days    15308 non-null  int64 \n",
      " 11  unique_quotations_last_15_days   15308 non-null  int64 \n",
      " 12  unique_quotations_last_21_days   15308 non-null  int64 \n",
      " 13  unique_quotations                15308 non-null  int64 \n",
      " 14  unique_customers_last_7_days     15308 non-null  int64 \n",
      " 15  unique_customers_last_15_days    15308 non-null  int64 \n",
      " 16  unique_customers_last_21_days    15308 non-null  int64 \n",
      " 17  unique_customers                 15308 non-null  int64 \n",
      " 18  new_policy_count                 15308 non-null  int64 \n",
      " 19  ANBP_value                       15308 non-null  int64 \n",
      " 20  net_income                       15308 non-null  int64 \n",
      " 21  number_of_policy_holders         15308 non-null  int64 \n",
      " 22  number_of_cash_payment_policies  15308 non-null  int64 \n",
      "dtypes: int64(19), object(4)\n",
      "memory usage: 2.7+ MB\n"
     ]
    },
    {
     "data": {
      "text/plain": [
       "None"
      ]
     },
     "metadata": {},
     "output_type": "display_data"
    }
   ],
   "source": [
    "display(df.info())"
   ]
  },
  {
   "cell_type": "code",
   "execution_count": 10,
   "id": "f460eb7c-219f-4d58-94a4-6d64a456bbac",
   "metadata": {},
   "outputs": [
    {
     "data": {
      "text/plain": [
       "row_id                             0\n",
       "agent_code                         0\n",
       "agent_age                          0\n",
       "agent_join_month                   0\n",
       "first_policy_sold_month            0\n",
       "year_month                         0\n",
       "unique_proposals_last_7_days       0\n",
       "unique_proposals_last_15_days      0\n",
       "unique_proposals_last_21_days      0\n",
       "unique_proposal                    0\n",
       "unique_quotations_last_7_days      0\n",
       "unique_quotations_last_15_days     0\n",
       "unique_quotations_last_21_days     0\n",
       "unique_quotations                  0\n",
       "unique_customers_last_7_days       0\n",
       "unique_customers_last_15_days      0\n",
       "unique_customers_last_21_days      0\n",
       "unique_customers                   0\n",
       "new_policy_count                   0\n",
       "ANBP_value                         0\n",
       "net_income                         0\n",
       "number_of_policy_holders           0\n",
       "number_of_cash_payment_policies    0\n",
       "dtype: int64"
      ]
     },
     "execution_count": 10,
     "metadata": {},
     "output_type": "execute_result"
    }
   ],
   "source": [
    "df.isnull().sum()"
   ]
  },
  {
   "cell_type": "code",
   "execution_count": null,
   "id": "a55fef0f-0ed8-4b47-9a2d-82b98d094dcf",
   "metadata": {},
   "outputs": [],
   "source": []
  },
  {
   "cell_type": "code",
   "execution_count": null,
   "id": "7c0f3c90-fad2-4ab6-94c3-b0766c0f5f16",
   "metadata": {},
   "outputs": [],
   "source": []
  },
  {
   "cell_type": "code",
   "execution_count": null,
   "id": "aab575ab-5457-45b4-933f-4919b0601b9f",
   "metadata": {},
   "outputs": [],
   "source": []
  }
 ],
 "metadata": {
  "kernelspec": {
   "display_name": "Python 3 (ipykernel)",
   "language": "python",
   "name": "python3"
  },
  "language_info": {
   "codemirror_mode": {
    "name": "ipython",
    "version": 3
   },
   "file_extension": ".py",
   "mimetype": "text/x-python",
   "name": "python",
   "nbconvert_exporter": "python",
   "pygments_lexer": "ipython3",
   "version": "3.13.2"
  }
 },
 "nbformat": 4,
 "nbformat_minor": 5
}
